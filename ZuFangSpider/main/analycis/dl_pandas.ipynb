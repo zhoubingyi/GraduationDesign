{
 "cells": [
  {
   "cell_type": "markdown",
   "metadata": {},
   "source": [
    "## 探索的问题\n",
    "1. 房租的分布情况\n",
    "2. 哪种户型的房源最多\n",
    "3. 哪条地铁线附近的房租比较贵\n",
    "4. 哪个区的房租更贵\n",
    "5. 房源的面积分布情况    \n",
    "\n",
    "## 数据说明\n",
    "* house_area: 表示房间的面积\n",
    "* house_toom: 表示出租房屋的户型\n",
    "* house_price: 表示每月的房租\n",
    "* house_name: 表示房源所处的小区\n",
    "* house_located: 表示房源所处的区\n",
    "\n",
    "## 数据清洗\n",
    "### 数据预览"
   ]
  },
  {
   "cell_type": "code",
   "execution_count": 13,
   "metadata": {},
   "outputs": [
    {
     "name": "stdout",
     "output_type": "stream",
     "text": [
      "Populating the interactive namespace from numpy and matplotlib\n"
     ]
    },
    {
     "ename": "FileNotFoundError",
     "evalue": "[Errno 2] File b'rent.csv' does not exist: b'rent.csv'",
     "output_type": "error",
     "traceback": [
      "\u001b[0;31m---------------------------------------------------------------------------\u001b[0m",
      "\u001b[0;31mFileNotFoundError\u001b[0m                         Traceback (most recent call last)",
      "\u001b[0;32m<ipython-input-13-d20f2b4e3a34>\u001b[0m in \u001b[0;36m<module>\u001b[0;34m\u001b[0m\n\u001b[1;32m      6\u001b[0m \u001b[0mget_ipython\u001b[0m\u001b[0;34m(\u001b[0m\u001b[0;34m)\u001b[0m\u001b[0;34m.\u001b[0m\u001b[0mrun_line_magic\u001b[0m\u001b[0;34m(\u001b[0m\u001b[0;34m'pylab'\u001b[0m\u001b[0;34m,\u001b[0m \u001b[0;34m'inline'\u001b[0m\u001b[0;34m)\u001b[0m\u001b[0;34m\u001b[0m\u001b[0;34m\u001b[0m\u001b[0m\n\u001b[1;32m      7\u001b[0m \u001b[0;34m\u001b[0m\u001b[0m\n\u001b[0;32m----> 8\u001b[0;31m \u001b[0mdf_dl_rent\u001b[0m \u001b[0;34m=\u001b[0m \u001b[0mpd\u001b[0m\u001b[0;34m.\u001b[0m\u001b[0mread_csv\u001b[0m\u001b[0;34m(\u001b[0m\u001b[0;34m'rent.csv'\u001b[0m\u001b[0;34m)\u001b[0m \u001b[0;31m# 加载数据\u001b[0m\u001b[0;34m\u001b[0m\u001b[0;34m\u001b[0m\u001b[0m\n\u001b[0m\u001b[1;32m      9\u001b[0m \u001b[0mdf_dl_rent\u001b[0m\u001b[0;34m.\u001b[0m\u001b[0mhead\u001b[0m\u001b[0;34m(\u001b[0m\u001b[0;36m5\u001b[0m\u001b[0;34m)\u001b[0m \u001b[0;31m# 预览数据\u001b[0m\u001b[0;34m\u001b[0m\u001b[0;34m\u001b[0m\u001b[0m\n",
      "\u001b[0;32m/Library/Frameworks/Python.framework/Versions/3.6/lib/python3.6/site-packages/pandas/io/parsers.py\u001b[0m in \u001b[0;36mparser_f\u001b[0;34m(filepath_or_buffer, sep, delimiter, header, names, index_col, usecols, squeeze, prefix, mangle_dupe_cols, dtype, engine, converters, true_values, false_values, skipinitialspace, skiprows, skipfooter, nrows, na_values, keep_default_na, na_filter, verbose, skip_blank_lines, parse_dates, infer_datetime_format, keep_date_col, date_parser, dayfirst, iterator, chunksize, compression, thousands, decimal, lineterminator, quotechar, quoting, doublequote, escapechar, comment, encoding, dialect, tupleize_cols, error_bad_lines, warn_bad_lines, delim_whitespace, low_memory, memory_map, float_precision)\u001b[0m\n\u001b[1;32m    700\u001b[0m                     skip_blank_lines=skip_blank_lines)\n\u001b[1;32m    701\u001b[0m \u001b[0;34m\u001b[0m\u001b[0m\n\u001b[0;32m--> 702\u001b[0;31m         \u001b[0;32mreturn\u001b[0m \u001b[0m_read\u001b[0m\u001b[0;34m(\u001b[0m\u001b[0mfilepath_or_buffer\u001b[0m\u001b[0;34m,\u001b[0m \u001b[0mkwds\u001b[0m\u001b[0;34m)\u001b[0m\u001b[0;34m\u001b[0m\u001b[0;34m\u001b[0m\u001b[0m\n\u001b[0m\u001b[1;32m    703\u001b[0m \u001b[0;34m\u001b[0m\u001b[0m\n\u001b[1;32m    704\u001b[0m     \u001b[0mparser_f\u001b[0m\u001b[0;34m.\u001b[0m\u001b[0m__name__\u001b[0m \u001b[0;34m=\u001b[0m \u001b[0mname\u001b[0m\u001b[0;34m\u001b[0m\u001b[0;34m\u001b[0m\u001b[0m\n",
      "\u001b[0;32m/Library/Frameworks/Python.framework/Versions/3.6/lib/python3.6/site-packages/pandas/io/parsers.py\u001b[0m in \u001b[0;36m_read\u001b[0;34m(filepath_or_buffer, kwds)\u001b[0m\n\u001b[1;32m    427\u001b[0m \u001b[0;34m\u001b[0m\u001b[0m\n\u001b[1;32m    428\u001b[0m     \u001b[0;31m# Create the parser.\u001b[0m\u001b[0;34m\u001b[0m\u001b[0;34m\u001b[0m\u001b[0;34m\u001b[0m\u001b[0m\n\u001b[0;32m--> 429\u001b[0;31m     \u001b[0mparser\u001b[0m \u001b[0;34m=\u001b[0m \u001b[0mTextFileReader\u001b[0m\u001b[0;34m(\u001b[0m\u001b[0mfilepath_or_buffer\u001b[0m\u001b[0;34m,\u001b[0m \u001b[0;34m**\u001b[0m\u001b[0mkwds\u001b[0m\u001b[0;34m)\u001b[0m\u001b[0;34m\u001b[0m\u001b[0;34m\u001b[0m\u001b[0m\n\u001b[0m\u001b[1;32m    430\u001b[0m \u001b[0;34m\u001b[0m\u001b[0m\n\u001b[1;32m    431\u001b[0m     \u001b[0;32mif\u001b[0m \u001b[0mchunksize\u001b[0m \u001b[0;32mor\u001b[0m \u001b[0miterator\u001b[0m\u001b[0;34m:\u001b[0m\u001b[0;34m\u001b[0m\u001b[0;34m\u001b[0m\u001b[0m\n",
      "\u001b[0;32m/Library/Frameworks/Python.framework/Versions/3.6/lib/python3.6/site-packages/pandas/io/parsers.py\u001b[0m in \u001b[0;36m__init__\u001b[0;34m(self, f, engine, **kwds)\u001b[0m\n\u001b[1;32m    893\u001b[0m             \u001b[0mself\u001b[0m\u001b[0;34m.\u001b[0m\u001b[0moptions\u001b[0m\u001b[0;34m[\u001b[0m\u001b[0;34m'has_index_names'\u001b[0m\u001b[0;34m]\u001b[0m \u001b[0;34m=\u001b[0m \u001b[0mkwds\u001b[0m\u001b[0;34m[\u001b[0m\u001b[0;34m'has_index_names'\u001b[0m\u001b[0;34m]\u001b[0m\u001b[0;34m\u001b[0m\u001b[0;34m\u001b[0m\u001b[0m\n\u001b[1;32m    894\u001b[0m \u001b[0;34m\u001b[0m\u001b[0m\n\u001b[0;32m--> 895\u001b[0;31m         \u001b[0mself\u001b[0m\u001b[0;34m.\u001b[0m\u001b[0m_make_engine\u001b[0m\u001b[0;34m(\u001b[0m\u001b[0mself\u001b[0m\u001b[0;34m.\u001b[0m\u001b[0mengine\u001b[0m\u001b[0;34m)\u001b[0m\u001b[0;34m\u001b[0m\u001b[0;34m\u001b[0m\u001b[0m\n\u001b[0m\u001b[1;32m    896\u001b[0m \u001b[0;34m\u001b[0m\u001b[0m\n\u001b[1;32m    897\u001b[0m     \u001b[0;32mdef\u001b[0m \u001b[0mclose\u001b[0m\u001b[0;34m(\u001b[0m\u001b[0mself\u001b[0m\u001b[0;34m)\u001b[0m\u001b[0;34m:\u001b[0m\u001b[0;34m\u001b[0m\u001b[0;34m\u001b[0m\u001b[0m\n",
      "\u001b[0;32m/Library/Frameworks/Python.framework/Versions/3.6/lib/python3.6/site-packages/pandas/io/parsers.py\u001b[0m in \u001b[0;36m_make_engine\u001b[0;34m(self, engine)\u001b[0m\n\u001b[1;32m   1120\u001b[0m     \u001b[0;32mdef\u001b[0m \u001b[0m_make_engine\u001b[0m\u001b[0;34m(\u001b[0m\u001b[0mself\u001b[0m\u001b[0;34m,\u001b[0m \u001b[0mengine\u001b[0m\u001b[0;34m=\u001b[0m\u001b[0;34m'c'\u001b[0m\u001b[0;34m)\u001b[0m\u001b[0;34m:\u001b[0m\u001b[0;34m\u001b[0m\u001b[0;34m\u001b[0m\u001b[0m\n\u001b[1;32m   1121\u001b[0m         \u001b[0;32mif\u001b[0m \u001b[0mengine\u001b[0m \u001b[0;34m==\u001b[0m \u001b[0;34m'c'\u001b[0m\u001b[0;34m:\u001b[0m\u001b[0;34m\u001b[0m\u001b[0;34m\u001b[0m\u001b[0m\n\u001b[0;32m-> 1122\u001b[0;31m             \u001b[0mself\u001b[0m\u001b[0;34m.\u001b[0m\u001b[0m_engine\u001b[0m \u001b[0;34m=\u001b[0m \u001b[0mCParserWrapper\u001b[0m\u001b[0;34m(\u001b[0m\u001b[0mself\u001b[0m\u001b[0;34m.\u001b[0m\u001b[0mf\u001b[0m\u001b[0;34m,\u001b[0m \u001b[0;34m**\u001b[0m\u001b[0mself\u001b[0m\u001b[0;34m.\u001b[0m\u001b[0moptions\u001b[0m\u001b[0;34m)\u001b[0m\u001b[0;34m\u001b[0m\u001b[0;34m\u001b[0m\u001b[0m\n\u001b[0m\u001b[1;32m   1123\u001b[0m         \u001b[0;32melse\u001b[0m\u001b[0;34m:\u001b[0m\u001b[0;34m\u001b[0m\u001b[0;34m\u001b[0m\u001b[0m\n\u001b[1;32m   1124\u001b[0m             \u001b[0;32mif\u001b[0m \u001b[0mengine\u001b[0m \u001b[0;34m==\u001b[0m \u001b[0;34m'python'\u001b[0m\u001b[0;34m:\u001b[0m\u001b[0;34m\u001b[0m\u001b[0;34m\u001b[0m\u001b[0m\n",
      "\u001b[0;32m/Library/Frameworks/Python.framework/Versions/3.6/lib/python3.6/site-packages/pandas/io/parsers.py\u001b[0m in \u001b[0;36m__init__\u001b[0;34m(self, src, **kwds)\u001b[0m\n\u001b[1;32m   1851\u001b[0m         \u001b[0mkwds\u001b[0m\u001b[0;34m[\u001b[0m\u001b[0;34m'usecols'\u001b[0m\u001b[0;34m]\u001b[0m \u001b[0;34m=\u001b[0m \u001b[0mself\u001b[0m\u001b[0;34m.\u001b[0m\u001b[0musecols\u001b[0m\u001b[0;34m\u001b[0m\u001b[0;34m\u001b[0m\u001b[0m\n\u001b[1;32m   1852\u001b[0m \u001b[0;34m\u001b[0m\u001b[0m\n\u001b[0;32m-> 1853\u001b[0;31m         \u001b[0mself\u001b[0m\u001b[0;34m.\u001b[0m\u001b[0m_reader\u001b[0m \u001b[0;34m=\u001b[0m \u001b[0mparsers\u001b[0m\u001b[0;34m.\u001b[0m\u001b[0mTextReader\u001b[0m\u001b[0;34m(\u001b[0m\u001b[0msrc\u001b[0m\u001b[0;34m,\u001b[0m \u001b[0;34m**\u001b[0m\u001b[0mkwds\u001b[0m\u001b[0;34m)\u001b[0m\u001b[0;34m\u001b[0m\u001b[0;34m\u001b[0m\u001b[0m\n\u001b[0m\u001b[1;32m   1854\u001b[0m         \u001b[0mself\u001b[0m\u001b[0;34m.\u001b[0m\u001b[0munnamed_cols\u001b[0m \u001b[0;34m=\u001b[0m \u001b[0mself\u001b[0m\u001b[0;34m.\u001b[0m\u001b[0m_reader\u001b[0m\u001b[0;34m.\u001b[0m\u001b[0munnamed_cols\u001b[0m\u001b[0;34m\u001b[0m\u001b[0;34m\u001b[0m\u001b[0m\n\u001b[1;32m   1855\u001b[0m \u001b[0;34m\u001b[0m\u001b[0m\n",
      "\u001b[0;32mpandas/_libs/parsers.pyx\u001b[0m in \u001b[0;36mpandas._libs.parsers.TextReader.__cinit__\u001b[0;34m()\u001b[0m\n",
      "\u001b[0;32mpandas/_libs/parsers.pyx\u001b[0m in \u001b[0;36mpandas._libs.parsers.TextReader._setup_parser_source\u001b[0;34m()\u001b[0m\n",
      "\u001b[0;31mFileNotFoundError\u001b[0m: [Errno 2] File b'rent.csv' does not exist: b'rent.csv'"
     ]
    }
   ],
   "source": [
    "# coding: utf-8\n",
    "import pandas as pd\n",
    "import numpy as np\n",
    "import matplotlib.pyplot as plt\n",
    "plt.rcParams['font.sans-serif']=['Microsoft YaHei'] # 使图形能够正常显示中文\n",
    "%pylab inline\n",
    "\n",
    "df_dl_rent = pd.read_csv('data_dl_rent.csv') # 加载数据\n",
    "df_dl_rent.head(5) # 预览数据"
   ]
  },
  {
   "cell_type": "code",
   "execution_count": 2,
   "metadata": {},
   "outputs": [
    {
     "data": {
      "text/html": [
       "<div>\n",
       "<style scoped>\n",
       "    .dataframe tbody tr th:only-of-type {\n",
       "        vertical-align: middle;\n",
       "    }\n",
       "\n",
       "    .dataframe tbody tr th {\n",
       "        vertical-align: top;\n",
       "    }\n",
       "\n",
       "    .dataframe thead th {\n",
       "        text-align: right;\n",
       "    }\n",
       "</style>\n",
       "<table border=\"1\" class=\"dataframe\">\n",
       "  <thead>\n",
       "    <tr style=\"text-align: right;\">\n",
       "      <th></th>\n",
       "      <th>region</th>\n",
       "      <th>tittle</th>\n",
       "      <th>street</th>\n",
       "      <th>house_room</th>\n",
       "      <th>house_area</th>\n",
       "      <th>house_price</th>\n",
       "      <th>house_located</th>\n",
       "      <th>house_name</th>\n",
       "    </tr>\n",
       "  </thead>\n",
       "  <tbody>\n",
       "    <tr>\n",
       "      <th>22746</th>\n",
       "      <td>金州</td>\n",
       "      <td>光明</td>\n",
       "      <td>和平小区</td>\n",
       "      <td>2室1厅</td>\n",
       "      <td>68.0</td>\n",
       "      <td>1200.0</td>\n",
       "      <td>光明和平小区</td>\n",
       "      <td>金州光明和平小区</td>\n",
       "    </tr>\n",
       "    <tr>\n",
       "      <th>22747</th>\n",
       "      <td>金州</td>\n",
       "      <td>光明</td>\n",
       "      <td>整租·胜利小区</td>\n",
       "      <td>2室1厅</td>\n",
       "      <td>56.0</td>\n",
       "      <td>2200.0</td>\n",
       "      <td>光明整租·胜利小区</td>\n",
       "      <td>金州光明整租·胜利小区</td>\n",
       "    </tr>\n",
       "    <tr>\n",
       "      <th>22748</th>\n",
       "      <td>金州</td>\n",
       "      <td>光明</td>\n",
       "      <td>金州福佳新天地广场</td>\n",
       "      <td>1室1厅</td>\n",
       "      <td>49.0</td>\n",
       "      <td>1500.0</td>\n",
       "      <td>光明金州福佳新天地广场</td>\n",
       "      <td>金州光明金州福佳新天地广场</td>\n",
       "    </tr>\n",
       "    <tr>\n",
       "      <th>22749</th>\n",
       "      <td>金州</td>\n",
       "      <td>光明</td>\n",
       "      <td>和平小区</td>\n",
       "      <td>1室1厅</td>\n",
       "      <td>48.0</td>\n",
       "      <td>1000.0</td>\n",
       "      <td>光明和平小区</td>\n",
       "      <td>金州光明和平小区</td>\n",
       "    </tr>\n",
       "    <tr>\n",
       "      <th>22750</th>\n",
       "      <td>金州</td>\n",
       "      <td>光明</td>\n",
       "      <td>和平小区</td>\n",
       "      <td>3室1厅</td>\n",
       "      <td>121.0</td>\n",
       "      <td>1400.0</td>\n",
       "      <td>光明和平小区</td>\n",
       "      <td>金州光明和平小区</td>\n",
       "    </tr>\n",
       "  </tbody>\n",
       "</table>\n",
       "</div>"
      ],
      "text/plain": [
       "      region tittle     street house_room  house_area  house_price  \\\n",
       "22746     金州     光明       和平小区       2室1厅        68.0       1200.0   \n",
       "22747     金州     光明    整租·胜利小区       2室1厅        56.0       2200.0   \n",
       "22748     金州     光明  金州福佳新天地广场       1室1厅        49.0       1500.0   \n",
       "22749     金州     光明       和平小区       1室1厅        48.0       1000.0   \n",
       "22750     金州     光明       和平小区       3室1厅       121.0       1400.0   \n",
       "\n",
       "      house_located     house_name  \n",
       "22746        光明和平小区       金州光明和平小区  \n",
       "22747     光明整租·胜利小区    金州光明整租·胜利小区  \n",
       "22748   光明金州福佳新天地广场  金州光明金州福佳新天地广场  \n",
       "22749        光明和平小区       金州光明和平小区  \n",
       "22750        光明和平小区       金州光明和平小区  "
      ]
     },
     "execution_count": 2,
     "metadata": {},
     "output_type": "execute_result"
    }
   ],
   "source": [
    "df_dl_rent.tail(5) # 预览后5条数据"
   ]
  },
  {
   "cell_type": "code",
   "execution_count": 3,
   "metadata": {},
   "outputs": [
    {
     "name": "stdout",
     "output_type": "stream",
     "text": [
      "<class 'pandas.core.frame.DataFrame'>\n",
      "RangeIndex: 22751 entries, 0 to 22750\n",
      "Data columns (total 8 columns):\n",
      "region           22749 non-null object\n",
      "tittle           22749 non-null object\n",
      "street           22749 non-null object\n",
      "house_room       22749 non-null object\n",
      "house_area       22713 non-null float64\n",
      "house_price      22749 non-null float64\n",
      "house_located    22749 non-null object\n",
      "house_name       22749 non-null object\n",
      "dtypes: float64(2), object(6)\n",
      "memory usage: 1.4+ MB\n"
     ]
    }
   ],
   "source": [
    "df_dl_rent.info()"
   ]
  },
  {
   "cell_type": "markdown",
   "metadata": {},
   "source": [
    "### 需要清洗的字段\n",
    "除了 house_room 字段外，剩下的字段都需要清洗，为了便于分析还需要新增字段    \n",
    "\n",
    "**1. house_area 字段需要转换成纯数字格式。**"
   ]
  },
  {
   "cell_type": "code",
   "execution_count": 4,
   "metadata": {},
   "outputs": [
    {
     "data": {
      "text/plain": [
       "0      NaN\n",
       "1     85.0\n",
       "2     59.0\n",
       "3    257.0\n",
       "4     40.0\n",
       "Name: house_area, dtype: float64"
      ]
     },
     "execution_count": 4,
     "metadata": {},
     "output_type": "execute_result"
    }
   ],
   "source": [
    "def convert_currency(value):\n",
    "    \"\"\"\n",
    "    转换字符串数字为float类型\n",
    "     - 转化为float类型\n",
    "    \"\"\"\n",
    "    return np.float(value)\n",
    "\n",
    "df_dl_rent['house_area'] = df_dl_rent['house_area'].apply(convert_currency)\n",
    "df_dl_rent['house_area'].head()"
   ]
  },
  {
   "cell_type": "markdown",
   "metadata": {},
   "source": [
    "**2. house_price 字段，要把其修改为纯数字格式**"
   ]
  },
  {
   "cell_type": "code",
   "execution_count": 5,
   "metadata": {},
   "outputs": [
    {
     "data": {
      "text/plain": [
       "0       NaN\n",
       "1    2600.0\n",
       "2    1800.0\n",
       "3    4500.0\n",
       "4    1200.0\n",
       "Name: house_price, dtype: float64"
      ]
     },
     "execution_count": 5,
     "metadata": {},
     "output_type": "execute_result"
    }
   ],
   "source": [
    "def convert_currency(value):\n",
    "    \"\"\"\n",
    "    转换字符串数字为float类型\n",
    "     - 移除 ￥ ,\n",
    "     - 转化为float类型\n",
    "    \"\"\"\n",
    "    return np.float(value)\n",
    "\n",
    "df_dl_rent['house_price'] = df_dl_rent['house_price'].apply(convert_currency)\n",
    "df_dl_rent['house_price'].head()"
   ]
  },
  {
   "cell_type": "code",
   "execution_count": 6,
   "metadata": {},
   "outputs": [
    {
     "data": {
      "text/plain": [
       "0           NaN\n",
       "1           新河街\n",
       "2           新月街\n",
       "3    新秀街（新起屯商圈）\n",
       "4          新林东巷\n",
       "Name: street, dtype: object"
      ]
     },
     "execution_count": 6,
     "metadata": {},
     "output_type": "execute_result"
    }
   ],
   "source": [
    "df_dl_rent['street'].head()"
   ]
  },
  {
   "cell_type": "markdown",
   "metadata": {},
   "source": [
    "4.2 提取所在的区的信息"
   ]
  },
  {
   "cell_type": "code",
   "execution_count": 7,
   "metadata": {},
   "outputs": [
    {
     "data": {
      "text/html": [
       "<div>\n",
       "<style scoped>\n",
       "    .dataframe tbody tr th:only-of-type {\n",
       "        vertical-align: middle;\n",
       "    }\n",
       "\n",
       "    .dataframe tbody tr th {\n",
       "        vertical-align: top;\n",
       "    }\n",
       "\n",
       "    .dataframe thead th {\n",
       "        text-align: right;\n",
       "    }\n",
       "</style>\n",
       "<table border=\"1\" class=\"dataframe\">\n",
       "  <thead>\n",
       "    <tr style=\"text-align: right;\">\n",
       "      <th></th>\n",
       "      <th>region</th>\n",
       "      <th>tittle</th>\n",
       "      <th>street</th>\n",
       "      <th>house_room</th>\n",
       "      <th>house_area</th>\n",
       "      <th>house_price</th>\n",
       "      <th>house_located</th>\n",
       "      <th>house_name</th>\n",
       "    </tr>\n",
       "  </thead>\n",
       "  <tbody>\n",
       "    <tr>\n",
       "      <th>17547</th>\n",
       "      <td>高新园区</td>\n",
       "      <td>庙岭</td>\n",
       "      <td>合租·大华锦绣华城八期</td>\n",
       "      <td>4居室</td>\n",
       "      <td>8.0</td>\n",
       "      <td>600.0</td>\n",
       "      <td>庙岭合租·大华锦绣华城八期</td>\n",
       "      <td>高新园区庙岭合租·大华锦绣华城八期</td>\n",
       "    </tr>\n",
       "    <tr>\n",
       "      <th>14397</th>\n",
       "      <td>甘井子</td>\n",
       "      <td>泉水龙畔金泉</td>\n",
       "      <td>合租·龙畔金泉五期K2区</td>\n",
       "      <td>4居室</td>\n",
       "      <td>8.0</td>\n",
       "      <td>750.0</td>\n",
       "      <td>泉水龙畔金泉合租·龙畔金泉五期K2区</td>\n",
       "      <td>甘井子泉水龙畔金泉合租·龙畔金泉五期K2区</td>\n",
       "    </tr>\n",
       "    <tr>\n",
       "      <th>172</th>\n",
       "      <td>西岗</td>\n",
       "      <td>民主广场</td>\n",
       "      <td>合租·鸿霖大厦</td>\n",
       "      <td>5居室</td>\n",
       "      <td>8.0</td>\n",
       "      <td>650.0</td>\n",
       "      <td>民主广场合租·鸿霖大厦</td>\n",
       "      <td>西岗民主广场合租·鸿霖大厦</td>\n",
       "    </tr>\n",
       "    <tr>\n",
       "      <th>16602</th>\n",
       "      <td>高新园区</td>\n",
       "      <td>学府</td>\n",
       "      <td>合租·弘基三期</td>\n",
       "      <td>5居室</td>\n",
       "      <td>8.0</td>\n",
       "      <td>800.0</td>\n",
       "      <td>学府合租·弘基三期</td>\n",
       "      <td>高新园区学府合租·弘基三期</td>\n",
       "    </tr>\n",
       "    <tr>\n",
       "      <th>13950</th>\n",
       "      <td>甘井子</td>\n",
       "      <td>泉水锦泉源</td>\n",
       "      <td>合租·锦泉源D2区</td>\n",
       "      <td>4居室</td>\n",
       "      <td>8.0</td>\n",
       "      <td>750.0</td>\n",
       "      <td>泉水锦泉源合租·锦泉源D2区</td>\n",
       "      <td>甘井子泉水锦泉源合租·锦泉源D2区</td>\n",
       "    </tr>\n",
       "  </tbody>\n",
       "</table>\n",
       "</div>"
      ],
      "text/plain": [
       "      region  tittle        street house_room  house_area  house_price  \\\n",
       "17547   高新园区      庙岭   合租·大华锦绣华城八期        4居室         8.0        600.0   \n",
       "14397    甘井子  泉水龙畔金泉  合租·龙畔金泉五期K2区        4居室         8.0        750.0   \n",
       "172       西岗    民主广场       合租·鸿霖大厦        5居室         8.0        650.0   \n",
       "16602   高新园区      学府       合租·弘基三期        5居室         8.0        800.0   \n",
       "13950    甘井子   泉水锦泉源     合租·锦泉源D2区        4居室         8.0        750.0   \n",
       "\n",
       "            house_located             house_name  \n",
       "17547       庙岭合租·大华锦绣华城八期      高新园区庙岭合租·大华锦绣华城八期  \n",
       "14397  泉水龙畔金泉合租·龙畔金泉五期K2区  甘井子泉水龙畔金泉合租·龙畔金泉五期K2区  \n",
       "172           民主广场合租·鸿霖大厦          西岗民主广场合租·鸿霖大厦  \n",
       "16602           学府合租·弘基三期          高新园区学府合租·弘基三期  \n",
       "13950      泉水锦泉源合租·锦泉源D2区      甘井子泉水锦泉源合租·锦泉源D2区  "
      ]
     },
     "execution_count": 7,
     "metadata": {},
     "output_type": "execute_result"
    }
   ],
   "source": [
    "df_dl_rent.sort_values(by='house_area').head(5) # house_area 列有异常值"
   ]
  },
  {
   "cell_type": "code",
   "execution_count": 8,
   "metadata": {},
   "outputs": [
    {
     "data": {
      "text/html": [
       "<div>\n",
       "<style scoped>\n",
       "    .dataframe tbody tr th:only-of-type {\n",
       "        vertical-align: middle;\n",
       "    }\n",
       "\n",
       "    .dataframe tbody tr th {\n",
       "        vertical-align: top;\n",
       "    }\n",
       "\n",
       "    .dataframe thead th {\n",
       "        text-align: right;\n",
       "    }\n",
       "</style>\n",
       "<table border=\"1\" class=\"dataframe\">\n",
       "  <thead>\n",
       "    <tr style=\"text-align: right;\">\n",
       "      <th></th>\n",
       "      <th>region</th>\n",
       "      <th>tittle</th>\n",
       "      <th>street</th>\n",
       "      <th>house_room</th>\n",
       "      <th>house_area</th>\n",
       "      <th>house_price</th>\n",
       "      <th>house_located</th>\n",
       "      <th>house_name</th>\n",
       "    </tr>\n",
       "  </thead>\n",
       "  <tbody>\n",
       "    <tr>\n",
       "      <th>17547</th>\n",
       "      <td>高新园区</td>\n",
       "      <td>庙岭</td>\n",
       "      <td>合租·大华锦绣华城八期</td>\n",
       "      <td>4居室</td>\n",
       "      <td>8.0</td>\n",
       "      <td>600.0</td>\n",
       "      <td>庙岭合租·大华锦绣华城八期</td>\n",
       "      <td>高新园区庙岭合租·大华锦绣华城八期</td>\n",
       "    </tr>\n",
       "    <tr>\n",
       "      <th>14397</th>\n",
       "      <td>甘井子</td>\n",
       "      <td>泉水龙畔金泉</td>\n",
       "      <td>合租·龙畔金泉五期K2区</td>\n",
       "      <td>4居室</td>\n",
       "      <td>8.0</td>\n",
       "      <td>750.0</td>\n",
       "      <td>泉水龙畔金泉合租·龙畔金泉五期K2区</td>\n",
       "      <td>甘井子泉水龙畔金泉合租·龙畔金泉五期K2区</td>\n",
       "    </tr>\n",
       "    <tr>\n",
       "      <th>172</th>\n",
       "      <td>西岗</td>\n",
       "      <td>民主广场</td>\n",
       "      <td>合租·鸿霖大厦</td>\n",
       "      <td>5居室</td>\n",
       "      <td>8.0</td>\n",
       "      <td>650.0</td>\n",
       "      <td>民主广场合租·鸿霖大厦</td>\n",
       "      <td>西岗民主广场合租·鸿霖大厦</td>\n",
       "    </tr>\n",
       "    <tr>\n",
       "      <th>16602</th>\n",
       "      <td>高新园区</td>\n",
       "      <td>学府</td>\n",
       "      <td>合租·弘基三期</td>\n",
       "      <td>5居室</td>\n",
       "      <td>8.0</td>\n",
       "      <td>800.0</td>\n",
       "      <td>学府合租·弘基三期</td>\n",
       "      <td>高新园区学府合租·弘基三期</td>\n",
       "    </tr>\n",
       "    <tr>\n",
       "      <th>13950</th>\n",
       "      <td>甘井子</td>\n",
       "      <td>泉水锦泉源</td>\n",
       "      <td>合租·锦泉源D2区</td>\n",
       "      <td>4居室</td>\n",
       "      <td>8.0</td>\n",
       "      <td>750.0</td>\n",
       "      <td>泉水锦泉源合租·锦泉源D2区</td>\n",
       "      <td>甘井子泉水锦泉源合租·锦泉源D2区</td>\n",
       "    </tr>\n",
       "  </tbody>\n",
       "</table>\n",
       "</div>"
      ],
      "text/plain": [
       "      region  tittle        street house_room  house_area  house_price  \\\n",
       "17547   高新园区      庙岭   合租·大华锦绣华城八期        4居室         8.0        600.0   \n",
       "14397    甘井子  泉水龙畔金泉  合租·龙畔金泉五期K2区        4居室         8.0        750.0   \n",
       "172       西岗    民主广场       合租·鸿霖大厦        5居室         8.0        650.0   \n",
       "16602   高新园区      学府       合租·弘基三期        5居室         8.0        800.0   \n",
       "13950    甘井子   泉水锦泉源     合租·锦泉源D2区        4居室         8.0        750.0   \n",
       "\n",
       "            house_located             house_name  \n",
       "17547       庙岭合租·大华锦绣华城八期      高新园区庙岭合租·大华锦绣华城八期  \n",
       "14397  泉水龙畔金泉合租·龙畔金泉五期K2区  甘井子泉水龙畔金泉合租·龙畔金泉五期K2区  \n",
       "172           民主广场合租·鸿霖大厦          西岗民主广场合租·鸿霖大厦  \n",
       "16602           学府合租·弘基三期          高新园区学府合租·弘基三期  \n",
       "13950      泉水锦泉源合租·锦泉源D2区      甘井子泉水锦泉源合租·锦泉源D2区  "
      ]
     },
     "execution_count": 8,
     "metadata": {},
     "output_type": "execute_result"
    }
   ],
   "source": [
    "df_dl_rent = df_dl_rent.drop(df_dl_rent[df_dl_rent['house_area']==0.1].index)\n",
    "df_dl_rent.sort_values(by='house_area').head(5)"
   ]
  },
  {
   "cell_type": "markdown",
   "metadata": {},
   "source": [
    "## 数据分析\n",
    "\n",
    "**1.1 房租分布情况**"
   ]
  },
  {
   "cell_type": "code",
   "execution_count": 9,
   "metadata": {},
   "outputs": [
    {
     "data": {
      "text/plain": [
       "count     22749.000000\n",
       "mean       3007.996747\n",
       "std        3646.441582\n",
       "min         450.000000\n",
       "25%        1635.000000\n",
       "50%        2300.000000\n",
       "75%        3200.000000\n",
       "max      170000.000000\n",
       "Name: house_price, dtype: float64"
      ]
     },
     "execution_count": 9,
     "metadata": {},
     "output_type": "execute_result"
    }
   ],
   "source": [
    "df_dl_rent['house_price'].describe()"
   ]
  },
  {
   "cell_type": "markdown",
   "metadata": {},
   "source": [
    "* 最低的房租为 450 元每月，最贵的房租为 170000 元每月 \n",
    "* 平均房租为 3007 元每月，75% 的房租超过 3200 元每月。         \n",
    "\n",
    "接下来看看最高房租和最低房租的是什么房子"
   ]
  },
  {
   "cell_type": "code",
   "execution_count": 10,
   "metadata": {},
   "outputs": [
    {
     "data": {
      "text/html": [
       "<div>\n",
       "<style scoped>\n",
       "    .dataframe tbody tr th:only-of-type {\n",
       "        vertical-align: middle;\n",
       "    }\n",
       "\n",
       "    .dataframe tbody tr th {\n",
       "        vertical-align: top;\n",
       "    }\n",
       "\n",
       "    .dataframe thead th {\n",
       "        text-align: right;\n",
       "    }\n",
       "</style>\n",
       "<table border=\"1\" class=\"dataframe\">\n",
       "  <thead>\n",
       "    <tr style=\"text-align: right;\">\n",
       "      <th></th>\n",
       "      <th>region</th>\n",
       "      <th>tittle</th>\n",
       "      <th>street</th>\n",
       "      <th>house_room</th>\n",
       "      <th>house_area</th>\n",
       "      <th>house_price</th>\n",
       "      <th>house_located</th>\n",
       "      <th>house_name</th>\n",
       "    </tr>\n",
       "  </thead>\n",
       "  <tbody>\n",
       "    <tr>\n",
       "      <th>7980</th>\n",
       "      <td>开发区</td>\n",
       "      <td>红星海</td>\n",
       "      <td>红星海二期堡藏</td>\n",
       "      <td>6室2厅</td>\n",
       "      <td>980.0</td>\n",
       "      <td>170000.0</td>\n",
       "      <td>红星海红星海二期堡藏</td>\n",
       "      <td>开发区红星海红星海二期堡藏</td>\n",
       "    </tr>\n",
       "  </tbody>\n",
       "</table>\n",
       "</div>"
      ],
      "text/plain": [
       "     region tittle   street house_room  house_area  house_price house_located  \\\n",
       "7980    开发区    红星海  红星海二期堡藏       6室2厅       980.0     170000.0    红星海红星海二期堡藏   \n",
       "\n",
       "         house_name  \n",
       "7980  开发区红星海红星海二期堡藏  "
      ]
     },
     "execution_count": 10,
     "metadata": {},
     "output_type": "execute_result"
    }
   ],
   "source": [
    "df_dl_rent[df_dl_rent['house_price'] == 170000]"
   ]
  },
  {
   "cell_type": "code",
   "execution_count": 11,
   "metadata": {},
   "outputs": [
    {
     "data": {
      "text/html": [
       "<div>\n",
       "<style scoped>\n",
       "    .dataframe tbody tr th:only-of-type {\n",
       "        vertical-align: middle;\n",
       "    }\n",
       "\n",
       "    .dataframe tbody tr th {\n",
       "        vertical-align: top;\n",
       "    }\n",
       "\n",
       "    .dataframe thead th {\n",
       "        text-align: right;\n",
       "    }\n",
       "</style>\n",
       "<table border=\"1\" class=\"dataframe\">\n",
       "  <thead>\n",
       "    <tr style=\"text-align: right;\">\n",
       "      <th></th>\n",
       "      <th>region</th>\n",
       "      <th>tittle</th>\n",
       "      <th>street</th>\n",
       "      <th>house_room</th>\n",
       "      <th>house_area</th>\n",
       "      <th>house_price</th>\n",
       "      <th>house_located</th>\n",
       "      <th>house_name</th>\n",
       "    </tr>\n",
       "  </thead>\n",
       "  <tbody>\n",
       "    <tr>\n",
       "      <th>12368</th>\n",
       "      <td>甘井子</td>\n",
       "      <td>山东路</td>\n",
       "      <td>独栋·平台优选商家</td>\n",
       "      <td>华南广场店</td>\n",
       "      <td>30.0</td>\n",
       "      <td>450.0</td>\n",
       "      <td>山东路独栋·平台优选商家</td>\n",
       "      <td>甘井子山东路独栋·平台优选商家</td>\n",
       "    </tr>\n",
       "  </tbody>\n",
       "</table>\n",
       "</div>"
      ],
      "text/plain": [
       "      region tittle     street house_room  house_area  house_price  \\\n",
       "12368    甘井子    山东路  独栋·平台优选商家      华南广场店        30.0        450.0   \n",
       "\n",
       "      house_located       house_name  \n",
       "12368  山东路独栋·平台优选商家  甘井子山东路独栋·平台优选商家  "
      ]
     },
     "execution_count": 11,
     "metadata": {},
     "output_type": "execute_result"
    }
   ],
   "source": [
    "df_dl_rent[df_dl_rent['house_price'] == 450]"
   ]
  },
  {
   "cell_type": "markdown",
   "metadata": {},
   "source": [
    "* 房租最低的房子位于甘井子区。\n",
    "* 房租最贵的房子位于南山西岗,有2560平，应该数据为假"
   ]
  },
  {
   "cell_type": "markdown",
   "metadata": {},
   "source": [
    "**1.2 面积分布情况**"
   ]
  },
  {
   "cell_type": "code",
   "execution_count": 12,
   "metadata": {},
   "outputs": [
    {
     "data": {
      "text/plain": [
       "count    22713.000000\n",
       "mean        75.143398\n",
       "std         47.482884\n",
       "min          8.000000\n",
       "25%         48.000000\n",
       "50%         66.000000\n",
       "75%         90.000000\n",
       "max        980.000000\n",
       "Name: house_area, dtype: float64"
      ]
     },
     "execution_count": 12,
     "metadata": {},
     "output_type": "execute_result"
    }
   ],
   "source": [
    "df_dl_rent['house_area'].describe()"
   ]
  },
  {
   "cell_type": "markdown",
   "metadata": {},
   "source": [
    "最小面积为 8 $m^2$，最大面积为  980 $m^2$，平均面积为 75 $m^2$。"
   ]
  }
 ],
 "metadata": {
  "kernelspec": {
   "display_name": "Python 3",
   "language": "python",
   "name": "python3"
  },
  "language_info": {
   "codemirror_mode": {
    "name": "ipython",
    "version": 3
   },
   "file_extension": ".py",
   "mimetype": "text/x-python",
   "name": "python",
   "nbconvert_exporter": "python",
   "pygments_lexer": "ipython3",
   "version": "3.6.8"
  }
 },
 "nbformat": 4,
 "nbformat_minor": 2
}
