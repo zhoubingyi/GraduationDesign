{
 "cells": [
  {
   "cell_type": "markdown",
   "metadata": {},
   "source": [
    "## 探索的问题\n",
    "1. 房租的分布情况\n",
    "2. 哪种户型的房源最多\n",
    "3. 哪条地铁线附近的房租比较贵\n",
    "4. 哪个区的房租更贵\n",
    "5. 房源的面积分布情况    \n",
    "\n",
    "## 数据说明\n",
    "* house_area: 表示房间的面积\n",
    "* house_toom: 表示出租房屋的户型\n",
    "* house_price: 表示每月的房租\n",
    "* house_name: 表示房源所处的小区\n",
    "* house_located: 表示房源所处的区\n",
    "\n",
    "## 数据清洗\n",
    "### 数据预览"
   ]
  },
  {
   "cell_type": "code",
   "execution_count": 1,
   "metadata": {},
   "outputs": [
    {
     "name": "stdout",
     "output_type": "stream",
     "text": [
      "Populating the interactive namespace from numpy and matplotlib\n"
     ]
    },
    {
     "data": {
      "text/html": [
       "<div>\n",
       "<style scoped>\n",
       "    .dataframe tbody tr th:only-of-type {\n",
       "        vertical-align: middle;\n",
       "    }\n",
       "\n",
       "    .dataframe tbody tr th {\n",
       "        vertical-align: top;\n",
       "    }\n",
       "\n",
       "    .dataframe thead th {\n",
       "        text-align: right;\n",
       "    }\n",
       "</style>\n",
       "<table border=\"1\" class=\"dataframe\">\n",
       "  <thead>\n",
       "    <tr style=\"text-align: right;\">\n",
       "      <th></th>\n",
       "      <th>region</th>\n",
       "      <th>tittle</th>\n",
       "      <th>street</th>\n",
       "      <th>house_room</th>\n",
       "      <th>house_area</th>\n",
       "      <th>house_price</th>\n",
       "      <th>house_located</th>\n",
       "      <th>house_name</th>\n",
       "    </tr>\n",
       "  </thead>\n",
       "  <tbody>\n",
       "    <tr>\n",
       "      <th>0</th>\n",
       "      <td>西岗</td>\n",
       "      <td>新起屯</td>\n",
       "      <td>新河街</td>\n",
       "      <td>2室1厅</td>\n",
       "      <td>85.0</td>\n",
       "      <td>2600.0</td>\n",
       "      <td>新起屯新河街</td>\n",
       "      <td>西岗新起屯新河街</td>\n",
       "    </tr>\n",
       "    <tr>\n",
       "      <th>1</th>\n",
       "      <td>西岗</td>\n",
       "      <td>新起屯</td>\n",
       "      <td>新月街</td>\n",
       "      <td>2室1厅</td>\n",
       "      <td>59.0</td>\n",
       "      <td>1800.0</td>\n",
       "      <td>新起屯新月街</td>\n",
       "      <td>西岗新起屯新月街</td>\n",
       "    </tr>\n",
       "    <tr>\n",
       "      <th>2</th>\n",
       "      <td>西岗</td>\n",
       "      <td>新起屯</td>\n",
       "      <td>新秀街（新起屯商圈）</td>\n",
       "      <td>6室3厅</td>\n",
       "      <td>257.0</td>\n",
       "      <td>4500.0</td>\n",
       "      <td>新起屯新秀街（新起屯商圈）</td>\n",
       "      <td>西岗新起屯新秀街（新起屯商圈）</td>\n",
       "    </tr>\n",
       "    <tr>\n",
       "      <th>3</th>\n",
       "      <td>西岗</td>\n",
       "      <td>新起屯</td>\n",
       "      <td>新林东巷</td>\n",
       "      <td>1室1厅</td>\n",
       "      <td>40.0</td>\n",
       "      <td>1200.0</td>\n",
       "      <td>新起屯新林东巷</td>\n",
       "      <td>西岗新起屯新林东巷</td>\n",
       "    </tr>\n",
       "    <tr>\n",
       "      <th>4</th>\n",
       "      <td>西岗</td>\n",
       "      <td>新起屯</td>\n",
       "      <td>新田巷</td>\n",
       "      <td>1室1厅</td>\n",
       "      <td>34.0</td>\n",
       "      <td>1500.0</td>\n",
       "      <td>新起屯新田巷</td>\n",
       "      <td>西岗新起屯新田巷</td>\n",
       "    </tr>\n",
       "  </tbody>\n",
       "</table>\n",
       "</div>"
      ],
      "text/plain": [
       "  region tittle      street house_room  house_area  house_price  \\\n",
       "0     西岗    新起屯         新河街       2室1厅        85.0       2600.0   \n",
       "1     西岗    新起屯         新月街       2室1厅        59.0       1800.0   \n",
       "2     西岗    新起屯  新秀街（新起屯商圈）       6室3厅       257.0       4500.0   \n",
       "3     西岗    新起屯        新林东巷       1室1厅        40.0       1200.0   \n",
       "4     西岗    新起屯         新田巷       1室1厅        34.0       1500.0   \n",
       "\n",
       "   house_located       house_name  \n",
       "0         新起屯新河街         西岗新起屯新河街  \n",
       "1         新起屯新月街         西岗新起屯新月街  \n",
       "2  新起屯新秀街（新起屯商圈）  西岗新起屯新秀街（新起屯商圈）  \n",
       "3        新起屯新林东巷        西岗新起屯新林东巷  \n",
       "4         新起屯新田巷         西岗新起屯新田巷  "
      ]
     },
     "execution_count": 1,
     "metadata": {},
     "output_type": "execute_result"
    }
   ],
   "source": [
    "# coding: utf-8\n",
    "import pandas as pd\n",
    "import numpy as np\n",
    "import matplotlib.pyplot as plt\n",
    "plt.rcParams['font.sans-serif']=['Microsoft YaHei'] # 使图形能够正常显示中文\n",
    "%pylab inline\n",
    "\n",
    "df_dl_rent = pd.read_csv('data_dl_rent.csv') # 加载数据\n",
    "df_dl_rent.head(5) # 预览数据"
   ]
  },
  {
   "cell_type": "code",
   "execution_count": 2,
   "metadata": {},
   "outputs": [
    {
     "data": {
      "text/html": [
       "<div>\n",
       "<style scoped>\n",
       "    .dataframe tbody tr th:only-of-type {\n",
       "        vertical-align: middle;\n",
       "    }\n",
       "\n",
       "    .dataframe tbody tr th {\n",
       "        vertical-align: top;\n",
       "    }\n",
       "\n",
       "    .dataframe thead th {\n",
       "        text-align: right;\n",
       "    }\n",
       "</style>\n",
       "<table border=\"1\" class=\"dataframe\">\n",
       "  <thead>\n",
       "    <tr style=\"text-align: right;\">\n",
       "      <th></th>\n",
       "      <th>region</th>\n",
       "      <th>tittle</th>\n",
       "      <th>street</th>\n",
       "      <th>house_room</th>\n",
       "      <th>house_area</th>\n",
       "      <th>house_price</th>\n",
       "      <th>house_located</th>\n",
       "      <th>house_name</th>\n",
       "    </tr>\n",
       "  </thead>\n",
       "  <tbody>\n",
       "    <tr>\n",
       "      <th>22745</th>\n",
       "      <td>金州</td>\n",
       "      <td>光明</td>\n",
       "      <td>和平小区</td>\n",
       "      <td>2室1厅</td>\n",
       "      <td>68.0</td>\n",
       "      <td>1200.0</td>\n",
       "      <td>光明和平小区</td>\n",
       "      <td>金州光明和平小区</td>\n",
       "    </tr>\n",
       "    <tr>\n",
       "      <th>22746</th>\n",
       "      <td>金州</td>\n",
       "      <td>光明</td>\n",
       "      <td>整租·胜利小区</td>\n",
       "      <td>2室1厅</td>\n",
       "      <td>56.0</td>\n",
       "      <td>2200.0</td>\n",
       "      <td>光明整租·胜利小区</td>\n",
       "      <td>金州光明整租·胜利小区</td>\n",
       "    </tr>\n",
       "    <tr>\n",
       "      <th>22747</th>\n",
       "      <td>金州</td>\n",
       "      <td>光明</td>\n",
       "      <td>金州福佳新天地广场</td>\n",
       "      <td>1室1厅</td>\n",
       "      <td>49.0</td>\n",
       "      <td>1500.0</td>\n",
       "      <td>光明金州福佳新天地广场</td>\n",
       "      <td>金州光明金州福佳新天地广场</td>\n",
       "    </tr>\n",
       "    <tr>\n",
       "      <th>22748</th>\n",
       "      <td>金州</td>\n",
       "      <td>光明</td>\n",
       "      <td>和平小区</td>\n",
       "      <td>1室1厅</td>\n",
       "      <td>48.0</td>\n",
       "      <td>1000.0</td>\n",
       "      <td>光明和平小区</td>\n",
       "      <td>金州光明和平小区</td>\n",
       "    </tr>\n",
       "    <tr>\n",
       "      <th>22749</th>\n",
       "      <td>金州</td>\n",
       "      <td>光明</td>\n",
       "      <td>和平小区</td>\n",
       "      <td>3室1厅</td>\n",
       "      <td>121.0</td>\n",
       "      <td>1400.0</td>\n",
       "      <td>光明和平小区</td>\n",
       "      <td>金州光明和平小区</td>\n",
       "    </tr>\n",
       "  </tbody>\n",
       "</table>\n",
       "</div>"
      ],
      "text/plain": [
       "      region tittle     street house_room  house_area  house_price  \\\n",
       "22745     金州     光明       和平小区       2室1厅        68.0       1200.0   \n",
       "22746     金州     光明    整租·胜利小区       2室1厅        56.0       2200.0   \n",
       "22747     金州     光明  金州福佳新天地广场       1室1厅        49.0       1500.0   \n",
       "22748     金州     光明       和平小区       1室1厅        48.0       1000.0   \n",
       "22749     金州     光明       和平小区       3室1厅       121.0       1400.0   \n",
       "\n",
       "      house_located     house_name  \n",
       "22745        光明和平小区       金州光明和平小区  \n",
       "22746     光明整租·胜利小区    金州光明整租·胜利小区  \n",
       "22747   光明金州福佳新天地广场  金州光明金州福佳新天地广场  \n",
       "22748        光明和平小区       金州光明和平小区  \n",
       "22749        光明和平小区       金州光明和平小区  "
      ]
     },
     "execution_count": 2,
     "metadata": {},
     "output_type": "execute_result"
    }
   ],
   "source": [
    "df_dl_rent.tail(5) # 预览后5条数据"
   ]
  },
  {
   "cell_type": "code",
   "execution_count": 3,
   "metadata": {},
   "outputs": [
    {
     "name": "stdout",
     "output_type": "stream",
     "text": [
      "<class 'pandas.core.frame.DataFrame'>\n",
      "RangeIndex: 22750 entries, 0 to 22749\n",
      "Data columns (total 8 columns):\n",
      "region           22749 non-null object\n",
      "tittle           22749 non-null object\n",
      "street           22749 non-null object\n",
      "house_room       22749 non-null object\n",
      "house_area       22713 non-null float64\n",
      "house_price      22749 non-null float64\n",
      "house_located    22749 non-null object\n",
      "house_name       22749 non-null object\n",
      "dtypes: float64(2), object(6)\n",
      "memory usage: 1.4+ MB\n"
     ]
    }
   ],
   "source": [
    "df_dl_rent.info()"
   ]
  },
  {
   "cell_type": "code",
   "execution_count": 8,
   "metadata": {},
   "outputs": [],
   "source": [
    "#查看重复行"
   ]
  },
  {
   "cell_type": "code",
   "execution_count": 9,
   "metadata": {},
   "outputs": [
    {
     "data": {
      "text/plain": [
       "False    21391\n",
       "True      1359\n",
       "dtype: int64"
      ]
     },
     "execution_count": 9,
     "metadata": {},
     "output_type": "execute_result"
    }
   ],
   "source": [
    "df_dl_rent.duplicated().value_counts()"
   ]
  },
  {
   "cell_type": "code",
   "execution_count": 10,
   "metadata": {},
   "outputs": [],
   "source": [
    "#删除重复行"
   ]
  },
  {
   "cell_type": "code",
   "execution_count": 12,
   "metadata": {},
   "outputs": [],
   "source": [
    "df_dl_rent.drop_duplicates(inplace=True)"
   ]
  },
  {
   "cell_type": "markdown",
   "metadata": {},
   "source": [
    "### 需要清洗的字段\n",
    "除了 house_room 字段外，剩下的字段都需要清洗，为了便于分析还需要新增字段    \n",
    "\n",
    "**1. house_area 字段需要转换成纯数字格式。**"
   ]
  },
  {
   "cell_type": "code",
   "execution_count": 13,
   "metadata": {},
   "outputs": [
    {
     "data": {
      "text/plain": [
       "0     85.0\n",
       "1     59.0\n",
       "2    257.0\n",
       "3     40.0\n",
       "4     34.0\n",
       "Name: house_area, dtype: float64"
      ]
     },
     "execution_count": 13,
     "metadata": {},
     "output_type": "execute_result"
    }
   ],
   "source": [
    "def convert_currency(value):\n",
    "    \"\"\"\n",
    "    转换字符串数字为float类型\n",
    "     - 转化为float类型\n",
    "    \"\"\"\n",
    "    return np.float(value)\n",
    "\n",
    "df_dl_rent['house_area'] = df_dl_rent['house_area'].apply(convert_currency)\n",
    "df_dl_rent['house_area'].head()"
   ]
  },
  {
   "cell_type": "markdown",
   "metadata": {},
   "source": [
    "**2. house_price 字段，要把其修改为纯数字格式**"
   ]
  },
  {
   "cell_type": "code",
   "execution_count": 14,
   "metadata": {},
   "outputs": [
    {
     "data": {
      "text/plain": [
       "0    2600.0\n",
       "1    1800.0\n",
       "2    4500.0\n",
       "3    1200.0\n",
       "4    1500.0\n",
       "Name: house_price, dtype: float64"
      ]
     },
     "execution_count": 14,
     "metadata": {},
     "output_type": "execute_result"
    }
   ],
   "source": [
    "def convert_currency(value):\n",
    "    \"\"\"\n",
    "    转换字符串数字为float类型\n",
    "     - 移除 ￥ ,\n",
    "     - 转化为float类型\n",
    "    \"\"\"\n",
    "    return np.float(value)\n",
    "\n",
    "df_dl_rent['house_price'] = df_dl_rent['house_price'].apply(convert_currency)\n",
    "df_dl_rent['house_price'].head()"
   ]
  },
  {
   "cell_type": "code",
   "execution_count": 15,
   "metadata": {},
   "outputs": [
    {
     "data": {
      "text/plain": [
       "0           新河街\n",
       "1           新月街\n",
       "2    新秀街（新起屯商圈）\n",
       "3          新林东巷\n",
       "4           新田巷\n",
       "Name: street, dtype: object"
      ]
     },
     "execution_count": 15,
     "metadata": {},
     "output_type": "execute_result"
    }
   ],
   "source": [
    "df_dl_rent['street'].head()"
   ]
  },
  {
   "cell_type": "markdown",
   "metadata": {},
   "source": [
    "4.2 提取所在的区的信息"
   ]
  },
  {
   "cell_type": "code",
   "execution_count": 16,
   "metadata": {},
   "outputs": [
    {
     "data": {
      "text/html": [
       "<div>\n",
       "<style scoped>\n",
       "    .dataframe tbody tr th:only-of-type {\n",
       "        vertical-align: middle;\n",
       "    }\n",
       "\n",
       "    .dataframe tbody tr th {\n",
       "        vertical-align: top;\n",
       "    }\n",
       "\n",
       "    .dataframe thead th {\n",
       "        text-align: right;\n",
       "    }\n",
       "</style>\n",
       "<table border=\"1\" class=\"dataframe\">\n",
       "  <thead>\n",
       "    <tr style=\"text-align: right;\">\n",
       "      <th></th>\n",
       "      <th>region</th>\n",
       "      <th>tittle</th>\n",
       "      <th>street</th>\n",
       "      <th>house_room</th>\n",
       "      <th>house_area</th>\n",
       "      <th>house_price</th>\n",
       "      <th>house_located</th>\n",
       "      <th>house_name</th>\n",
       "    </tr>\n",
       "  </thead>\n",
       "  <tbody>\n",
       "    <tr>\n",
       "      <th>14396</th>\n",
       "      <td>甘井子</td>\n",
       "      <td>泉水龙畔金泉</td>\n",
       "      <td>合租·龙畔金泉五期K2区</td>\n",
       "      <td>4居室</td>\n",
       "      <td>8.0</td>\n",
       "      <td>750.0</td>\n",
       "      <td>泉水龙畔金泉合租·龙畔金泉五期K2区</td>\n",
       "      <td>甘井子泉水龙畔金泉合租·龙畔金泉五期K2区</td>\n",
       "    </tr>\n",
       "    <tr>\n",
       "      <th>13949</th>\n",
       "      <td>甘井子</td>\n",
       "      <td>泉水锦泉源</td>\n",
       "      <td>合租·锦泉源D2区</td>\n",
       "      <td>4居室</td>\n",
       "      <td>8.0</td>\n",
       "      <td>750.0</td>\n",
       "      <td>泉水锦泉源合租·锦泉源D2区</td>\n",
       "      <td>甘井子泉水锦泉源合租·锦泉源D2区</td>\n",
       "    </tr>\n",
       "    <tr>\n",
       "      <th>16601</th>\n",
       "      <td>高新园区</td>\n",
       "      <td>学府</td>\n",
       "      <td>合租·弘基三期</td>\n",
       "      <td>5居室</td>\n",
       "      <td>8.0</td>\n",
       "      <td>800.0</td>\n",
       "      <td>学府合租·弘基三期</td>\n",
       "      <td>高新园区学府合租·弘基三期</td>\n",
       "    </tr>\n",
       "    <tr>\n",
       "      <th>171</th>\n",
       "      <td>西岗</td>\n",
       "      <td>民主广场</td>\n",
       "      <td>合租·鸿霖大厦</td>\n",
       "      <td>5居室</td>\n",
       "      <td>8.0</td>\n",
       "      <td>650.0</td>\n",
       "      <td>民主广场合租·鸿霖大厦</td>\n",
       "      <td>西岗民主广场合租·鸿霖大厦</td>\n",
       "    </tr>\n",
       "    <tr>\n",
       "      <th>17546</th>\n",
       "      <td>高新园区</td>\n",
       "      <td>庙岭</td>\n",
       "      <td>合租·大华锦绣华城八期</td>\n",
       "      <td>4居室</td>\n",
       "      <td>8.0</td>\n",
       "      <td>600.0</td>\n",
       "      <td>庙岭合租·大华锦绣华城八期</td>\n",
       "      <td>高新园区庙岭合租·大华锦绣华城八期</td>\n",
       "    </tr>\n",
       "  </tbody>\n",
       "</table>\n",
       "</div>"
      ],
      "text/plain": [
       "      region  tittle        street house_room  house_area  house_price  \\\n",
       "14396    甘井子  泉水龙畔金泉  合租·龙畔金泉五期K2区        4居室         8.0        750.0   \n",
       "13949    甘井子   泉水锦泉源     合租·锦泉源D2区        4居室         8.0        750.0   \n",
       "16601   高新园区      学府       合租·弘基三期        5居室         8.0        800.0   \n",
       "171       西岗    民主广场       合租·鸿霖大厦        5居室         8.0        650.0   \n",
       "17546   高新园区      庙岭   合租·大华锦绣华城八期        4居室         8.0        600.0   \n",
       "\n",
       "            house_located             house_name  \n",
       "14396  泉水龙畔金泉合租·龙畔金泉五期K2区  甘井子泉水龙畔金泉合租·龙畔金泉五期K2区  \n",
       "13949      泉水锦泉源合租·锦泉源D2区      甘井子泉水锦泉源合租·锦泉源D2区  \n",
       "16601           学府合租·弘基三期          高新园区学府合租·弘基三期  \n",
       "171           民主广场合租·鸿霖大厦          西岗民主广场合租·鸿霖大厦  \n",
       "17546       庙岭合租·大华锦绣华城八期      高新园区庙岭合租·大华锦绣华城八期  "
      ]
     },
     "execution_count": 16,
     "metadata": {},
     "output_type": "execute_result"
    }
   ],
   "source": [
    "df_dl_rent.sort_values(by='house_area').head(5) # house_area 列有异常值"
   ]
  },
  {
   "cell_type": "code",
   "execution_count": 17,
   "metadata": {},
   "outputs": [
    {
     "data": {
      "text/html": [
       "<div>\n",
       "<style scoped>\n",
       "    .dataframe tbody tr th:only-of-type {\n",
       "        vertical-align: middle;\n",
       "    }\n",
       "\n",
       "    .dataframe tbody tr th {\n",
       "        vertical-align: top;\n",
       "    }\n",
       "\n",
       "    .dataframe thead th {\n",
       "        text-align: right;\n",
       "    }\n",
       "</style>\n",
       "<table border=\"1\" class=\"dataframe\">\n",
       "  <thead>\n",
       "    <tr style=\"text-align: right;\">\n",
       "      <th></th>\n",
       "      <th>region</th>\n",
       "      <th>tittle</th>\n",
       "      <th>street</th>\n",
       "      <th>house_room</th>\n",
       "      <th>house_area</th>\n",
       "      <th>house_price</th>\n",
       "      <th>house_located</th>\n",
       "      <th>house_name</th>\n",
       "    </tr>\n",
       "  </thead>\n",
       "  <tbody>\n",
       "    <tr>\n",
       "      <th>14396</th>\n",
       "      <td>甘井子</td>\n",
       "      <td>泉水龙畔金泉</td>\n",
       "      <td>合租·龙畔金泉五期K2区</td>\n",
       "      <td>4居室</td>\n",
       "      <td>8.0</td>\n",
       "      <td>750.0</td>\n",
       "      <td>泉水龙畔金泉合租·龙畔金泉五期K2区</td>\n",
       "      <td>甘井子泉水龙畔金泉合租·龙畔金泉五期K2区</td>\n",
       "    </tr>\n",
       "    <tr>\n",
       "      <th>13949</th>\n",
       "      <td>甘井子</td>\n",
       "      <td>泉水锦泉源</td>\n",
       "      <td>合租·锦泉源D2区</td>\n",
       "      <td>4居室</td>\n",
       "      <td>8.0</td>\n",
       "      <td>750.0</td>\n",
       "      <td>泉水锦泉源合租·锦泉源D2区</td>\n",
       "      <td>甘井子泉水锦泉源合租·锦泉源D2区</td>\n",
       "    </tr>\n",
       "    <tr>\n",
       "      <th>16601</th>\n",
       "      <td>高新园区</td>\n",
       "      <td>学府</td>\n",
       "      <td>合租·弘基三期</td>\n",
       "      <td>5居室</td>\n",
       "      <td>8.0</td>\n",
       "      <td>800.0</td>\n",
       "      <td>学府合租·弘基三期</td>\n",
       "      <td>高新园区学府合租·弘基三期</td>\n",
       "    </tr>\n",
       "    <tr>\n",
       "      <th>171</th>\n",
       "      <td>西岗</td>\n",
       "      <td>民主广场</td>\n",
       "      <td>合租·鸿霖大厦</td>\n",
       "      <td>5居室</td>\n",
       "      <td>8.0</td>\n",
       "      <td>650.0</td>\n",
       "      <td>民主广场合租·鸿霖大厦</td>\n",
       "      <td>西岗民主广场合租·鸿霖大厦</td>\n",
       "    </tr>\n",
       "    <tr>\n",
       "      <th>17546</th>\n",
       "      <td>高新园区</td>\n",
       "      <td>庙岭</td>\n",
       "      <td>合租·大华锦绣华城八期</td>\n",
       "      <td>4居室</td>\n",
       "      <td>8.0</td>\n",
       "      <td>600.0</td>\n",
       "      <td>庙岭合租·大华锦绣华城八期</td>\n",
       "      <td>高新园区庙岭合租·大华锦绣华城八期</td>\n",
       "    </tr>\n",
       "  </tbody>\n",
       "</table>\n",
       "</div>"
      ],
      "text/plain": [
       "      region  tittle        street house_room  house_area  house_price  \\\n",
       "14396    甘井子  泉水龙畔金泉  合租·龙畔金泉五期K2区        4居室         8.0        750.0   \n",
       "13949    甘井子   泉水锦泉源     合租·锦泉源D2区        4居室         8.0        750.0   \n",
       "16601   高新园区      学府       合租·弘基三期        5居室         8.0        800.0   \n",
       "171       西岗    民主广场       合租·鸿霖大厦        5居室         8.0        650.0   \n",
       "17546   高新园区      庙岭   合租·大华锦绣华城八期        4居室         8.0        600.0   \n",
       "\n",
       "            house_located             house_name  \n",
       "14396  泉水龙畔金泉合租·龙畔金泉五期K2区  甘井子泉水龙畔金泉合租·龙畔金泉五期K2区  \n",
       "13949      泉水锦泉源合租·锦泉源D2区      甘井子泉水锦泉源合租·锦泉源D2区  \n",
       "16601           学府合租·弘基三期          高新园区学府合租·弘基三期  \n",
       "171           民主广场合租·鸿霖大厦          西岗民主广场合租·鸿霖大厦  \n",
       "17546       庙岭合租·大华锦绣华城八期      高新园区庙岭合租·大华锦绣华城八期  "
      ]
     },
     "execution_count": 17,
     "metadata": {},
     "output_type": "execute_result"
    }
   ],
   "source": [
    "df_dl_rent = df_dl_rent.drop(df_dl_rent[df_dl_rent['house_area']==0.1].index)\n",
    "df_dl_rent.sort_values(by='house_area').head(5)"
   ]
  },
  {
   "cell_type": "markdown",
   "metadata": {},
   "source": [
    "## 数据分析\n",
    "\n",
    "**1.1 房租分布情况**"
   ]
  },
  {
   "cell_type": "code",
   "execution_count": 18,
   "metadata": {},
   "outputs": [
    {
     "data": {
      "text/plain": [
       "count     21390.000000\n",
       "mean       3026.086302\n",
       "std        3687.668499\n",
       "min         450.000000\n",
       "25%        1600.000000\n",
       "50%        2300.000000\n",
       "75%        3200.000000\n",
       "max      170000.000000\n",
       "Name: house_price, dtype: float64"
      ]
     },
     "execution_count": 18,
     "metadata": {},
     "output_type": "execute_result"
    }
   ],
   "source": [
    "df_dl_rent['house_price'].describe()"
   ]
  },
  {
   "cell_type": "markdown",
   "metadata": {},
   "source": [
    "* 最低的房租为 450 元每月，最贵的房租为 170000 元每月 \n",
    "* 平均房租为 3007 元每月，75% 的房租超过 3200 元每月。         \n",
    "\n",
    "接下来看看最高房租和最低房租的是什么房子"
   ]
  },
  {
   "cell_type": "code",
   "execution_count": 19,
   "metadata": {},
   "outputs": [
    {
     "data": {
      "text/html": [
       "<div>\n",
       "<style scoped>\n",
       "    .dataframe tbody tr th:only-of-type {\n",
       "        vertical-align: middle;\n",
       "    }\n",
       "\n",
       "    .dataframe tbody tr th {\n",
       "        vertical-align: top;\n",
       "    }\n",
       "\n",
       "    .dataframe thead th {\n",
       "        text-align: right;\n",
       "    }\n",
       "</style>\n",
       "<table border=\"1\" class=\"dataframe\">\n",
       "  <thead>\n",
       "    <tr style=\"text-align: right;\">\n",
       "      <th></th>\n",
       "      <th>region</th>\n",
       "      <th>tittle</th>\n",
       "      <th>street</th>\n",
       "      <th>house_room</th>\n",
       "      <th>house_area</th>\n",
       "      <th>house_price</th>\n",
       "      <th>house_located</th>\n",
       "      <th>house_name</th>\n",
       "    </tr>\n",
       "  </thead>\n",
       "  <tbody>\n",
       "    <tr>\n",
       "      <th>7979</th>\n",
       "      <td>开发区</td>\n",
       "      <td>红星海</td>\n",
       "      <td>红星海二期堡藏</td>\n",
       "      <td>6室2厅</td>\n",
       "      <td>980.0</td>\n",
       "      <td>170000.0</td>\n",
       "      <td>红星海红星海二期堡藏</td>\n",
       "      <td>开发区红星海红星海二期堡藏</td>\n",
       "    </tr>\n",
       "  </tbody>\n",
       "</table>\n",
       "</div>"
      ],
      "text/plain": [
       "     region tittle   street house_room  house_area  house_price house_located  \\\n",
       "7979    开发区    红星海  红星海二期堡藏       6室2厅       980.0     170000.0    红星海红星海二期堡藏   \n",
       "\n",
       "         house_name  \n",
       "7979  开发区红星海红星海二期堡藏  "
      ]
     },
     "execution_count": 19,
     "metadata": {},
     "output_type": "execute_result"
    }
   ],
   "source": [
    "df_dl_rent[df_dl_rent['house_price'] == 170000]"
   ]
  },
  {
   "cell_type": "code",
   "execution_count": 11,
   "metadata": {},
   "outputs": [
    {
     "data": {
      "text/html": [
       "<div>\n",
       "<style scoped>\n",
       "    .dataframe tbody tr th:only-of-type {\n",
       "        vertical-align: middle;\n",
       "    }\n",
       "\n",
       "    .dataframe tbody tr th {\n",
       "        vertical-align: top;\n",
       "    }\n",
       "\n",
       "    .dataframe thead th {\n",
       "        text-align: right;\n",
       "    }\n",
       "</style>\n",
       "<table border=\"1\" class=\"dataframe\">\n",
       "  <thead>\n",
       "    <tr style=\"text-align: right;\">\n",
       "      <th></th>\n",
       "      <th>region</th>\n",
       "      <th>tittle</th>\n",
       "      <th>street</th>\n",
       "      <th>house_room</th>\n",
       "      <th>house_area</th>\n",
       "      <th>house_price</th>\n",
       "      <th>house_located</th>\n",
       "      <th>house_name</th>\n",
       "    </tr>\n",
       "  </thead>\n",
       "  <tbody>\n",
       "    <tr>\n",
       "      <th>12368</th>\n",
       "      <td>甘井子</td>\n",
       "      <td>山东路</td>\n",
       "      <td>独栋·平台优选商家</td>\n",
       "      <td>华南广场店</td>\n",
       "      <td>30.0</td>\n",
       "      <td>450.0</td>\n",
       "      <td>山东路独栋·平台优选商家</td>\n",
       "      <td>甘井子山东路独栋·平台优选商家</td>\n",
       "    </tr>\n",
       "  </tbody>\n",
       "</table>\n",
       "</div>"
      ],
      "text/plain": [
       "      region tittle     street house_room  house_area  house_price  \\\n",
       "12368    甘井子    山东路  独栋·平台优选商家      华南广场店        30.0        450.0   \n",
       "\n",
       "      house_located       house_name  \n",
       "12368  山东路独栋·平台优选商家  甘井子山东路独栋·平台优选商家  "
      ]
     },
     "execution_count": 11,
     "metadata": {},
     "output_type": "execute_result"
    }
   ],
   "source": [
    "df_dl_rent[df_dl_rent['house_price'] == 450]"
   ]
  },
  {
   "cell_type": "markdown",
   "metadata": {},
   "source": [
    "* 房租最低的房子位于甘井子区。\n",
    "* 房租最贵的房子位于南山西岗,有2560平，应该数据为假"
   ]
  },
  {
   "cell_type": "markdown",
   "metadata": {},
   "source": [
    "**1.2 面积分布情况**"
   ]
  },
  {
   "cell_type": "code",
   "execution_count": 12,
   "metadata": {},
   "outputs": [
    {
     "data": {
      "text/plain": [
       "count    22713.000000\n",
       "mean        75.143398\n",
       "std         47.482884\n",
       "min          8.000000\n",
       "25%         48.000000\n",
       "50%         66.000000\n",
       "75%         90.000000\n",
       "max        980.000000\n",
       "Name: house_area, dtype: float64"
      ]
     },
     "execution_count": 12,
     "metadata": {},
     "output_type": "execute_result"
    }
   ],
   "source": [
    "df_dl_rent['house_area'].describe()"
   ]
  },
  {
   "cell_type": "markdown",
   "metadata": {},
   "source": [
    "最小面积为 8 $m^2$，最大面积为  980 $m^2$，平均面积为 75 $m^2$。"
   ]
  }
 ],
 "metadata": {
  "kernelspec": {
   "display_name": "Python 3",
   "language": "python",
   "name": "python3"
  },
  "language_info": {
   "codemirror_mode": {
    "name": "ipython",
    "version": 3
   },
   "file_extension": ".py",
   "mimetype": "text/x-python",
   "name": "python",
   "nbconvert_exporter": "python",
   "pygments_lexer": "ipython3",
   "version": "3.6.8"
  }
 },
 "nbformat": 4,
 "nbformat_minor": 2
}
